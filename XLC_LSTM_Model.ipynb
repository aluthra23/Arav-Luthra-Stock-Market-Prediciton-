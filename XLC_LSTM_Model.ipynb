{
  "nbformat": 4,
  "nbformat_minor": 0,
  "metadata": {
    "colab": {
      "provenance": [],
      "authorship_tag": "ABX9TyMHxeDEcXPmKo7BJErso2hs",
      "include_colab_link": true
    },
    "kernelspec": {
      "name": "python3",
      "display_name": "Python 3"
    },
    "language_info": {
      "name": "python"
    },
    "accelerator": "GPU",
    "gpuClass": "standard"
  },
  "cells": [
    {
      "cell_type": "markdown",
      "metadata": {
        "id": "view-in-github",
        "colab_type": "text"
      },
      "source": [
        "<a href=\"https://colab.research.google.com/github/aluthra23/Arav-Luthra-Stock-Market-Prediciton-/blob/main/XLC_LSTM_Model.ipynb\" target=\"_parent\"><img src=\"https://colab.research.google.com/assets/colab-badge.svg\" alt=\"Open In Colab\"/></a>"
      ]
    },
    {
      "cell_type": "code",
      "execution_count": 39,
      "metadata": {
        "colab": {
          "base_uri": "https://localhost:8080/"
        },
        "id": "RzOcQCCtBkM7",
        "outputId": "1231b8b9-5a0c-4596-8f0c-53912c251c5b"
      },
      "outputs": [
        {
          "output_type": "stream",
          "name": "stdout",
          "text": [
            "Looking in indexes: https://pypi.org/simple, https://us-python.pkg.dev/colab-wheels/public/simple/\n",
            "Requirement already satisfied: yfinance in /usr/local/lib/python3.8/dist-packages (0.2.3)\n",
            "Requirement already satisfied: pytz>=2022.5 in /usr/local/lib/python3.8/dist-packages (from yfinance) (2022.7)\n",
            "Requirement already satisfied: appdirs>=1.4.4 in /usr/local/lib/python3.8/dist-packages (from yfinance) (1.4.4)\n",
            "Requirement already satisfied: numpy>=1.16.5 in /usr/local/lib/python3.8/dist-packages (from yfinance) (1.21.6)\n",
            "Requirement already satisfied: pandas>=1.3.0 in /usr/local/lib/python3.8/dist-packages (from yfinance) (1.3.5)\n",
            "Requirement already satisfied: requests>=2.26 in /usr/local/lib/python3.8/dist-packages (from yfinance) (2.28.1)\n",
            "Requirement already satisfied: cryptography>=3.3.2 in /usr/local/lib/python3.8/dist-packages (from yfinance) (39.0.0)\n",
            "Requirement already satisfied: frozendict>=2.3.4 in /usr/local/lib/python3.8/dist-packages (from yfinance) (2.3.4)\n",
            "Requirement already satisfied: lxml>=4.9.1 in /usr/local/lib/python3.8/dist-packages (from yfinance) (4.9.2)\n",
            "Requirement already satisfied: multitasking>=0.0.7 in /usr/local/lib/python3.8/dist-packages (from yfinance) (0.0.11)\n",
            "Requirement already satisfied: beautifulsoup4>=4.11.1 in /usr/local/lib/python3.8/dist-packages (from yfinance) (4.11.1)\n",
            "Requirement already satisfied: html5lib>=1.1 in /usr/local/lib/python3.8/dist-packages (from yfinance) (1.1)\n",
            "Requirement already satisfied: soupsieve>1.2 in /usr/local/lib/python3.8/dist-packages (from beautifulsoup4>=4.11.1->yfinance) (2.3.2.post1)\n",
            "Requirement already satisfied: cffi>=1.12 in /usr/local/lib/python3.8/dist-packages (from cryptography>=3.3.2->yfinance) (1.15.1)\n",
            "Requirement already satisfied: webencodings in /usr/local/lib/python3.8/dist-packages (from html5lib>=1.1->yfinance) (0.5.1)\n",
            "Requirement already satisfied: six>=1.9 in /usr/local/lib/python3.8/dist-packages (from html5lib>=1.1->yfinance) (1.15.0)\n",
            "Requirement already satisfied: python-dateutil>=2.7.3 in /usr/local/lib/python3.8/dist-packages (from pandas>=1.3.0->yfinance) (2.8.2)\n",
            "Requirement already satisfied: charset-normalizer<3,>=2 in /usr/local/lib/python3.8/dist-packages (from requests>=2.26->yfinance) (2.1.1)\n",
            "Requirement already satisfied: idna<4,>=2.5 in /usr/local/lib/python3.8/dist-packages (from requests>=2.26->yfinance) (2.10)\n",
            "Requirement already satisfied: certifi>=2017.4.17 in /usr/local/lib/python3.8/dist-packages (from requests>=2.26->yfinance) (2022.12.7)\n",
            "Requirement already satisfied: urllib3<1.27,>=1.21.1 in /usr/local/lib/python3.8/dist-packages (from requests>=2.26->yfinance) (1.24.3)\n",
            "Requirement already satisfied: pycparser in /usr/local/lib/python3.8/dist-packages (from cffi>=1.12->cryptography>=3.3.2->yfinance) (2.21)\n"
          ]
        }
      ],
      "source": [
        "import math\n",
        "!pip install yfinance\n",
        "import yfinance as yf\n",
        "import numpy as np\n",
        "import pandas as pd\n",
        "from sklearn.preprocessing import MinMaxScaler \n",
        "import matplotlib.pyplot as plt\n",
        "import tensorflow as tf\n",
        "from tensorflow import keras\n",
        "from tensorflow.keras import layers\n",
        "\n",
        "from keras.preprocessing.sequence import TimeseriesGenerator\n"
      ]
    },
    {
      "cell_type": "code",
      "source": [
        "df = yf.download('NAS', start='2018-11-30', end='2022-12-01')\n",
        "df"
      ],
      "metadata": {
        "colab": {
          "base_uri": "https://localhost:8080/",
          "height": 473
        },
        "id": "l9-zFR4sCQ7n",
        "outputId": "329d2e65-3c12-4f6a-df15-75c35bb39ebe"
      },
      "execution_count": 40,
      "outputs": [
        {
          "output_type": "stream",
          "name": "stdout",
          "text": [
            "\r[*********************100%***********************]  1 of 1 completed\n"
          ]
        },
        {
          "output_type": "execute_result",
          "data": {
            "text/plain": [
              "                 Open       High        Low      Close  Adj Close    Volume\n",
              "Date                                                                       \n",
              "2018-11-30  45.160000  45.160000  44.639999  45.009998  43.361794   5563500\n",
              "2018-12-03  45.980000  45.980000  44.900002  45.080002  43.429234   5790400\n",
              "2018-12-04  45.000000  45.259998  43.650002  43.750000  42.147942   3268000\n",
              "2018-12-06  43.099998  44.240002  42.970001  44.240002  42.619995   3560400\n",
              "2018-12-07  44.090000  44.450001  43.209999  43.400002  41.810757   2625800\n",
              "...               ...        ...        ...        ...        ...       ...\n",
              "2022-11-23  49.770000  50.590000  49.770000  50.480000  50.356033   4605800\n",
              "2022-11-25  50.180000  50.450001  50.139999  50.200001  50.076721   1895800\n",
              "2022-11-28  49.910000  50.205002  49.279999  49.400002  49.278687   3680300\n",
              "2022-11-29  49.430000  49.549999  48.970001  49.419998  49.298634   3823100\n",
              "2022-11-30  49.310001  51.525002  49.160000  51.509998  51.383503  10313800\n",
              "\n",
              "[1007 rows x 6 columns]"
            ],
            "text/html": [
              "\n",
              "  <div id=\"df-8bb79e7b-adb4-4718-a959-678ba5466a4d\">\n",
              "    <div class=\"colab-df-container\">\n",
              "      <div>\n",
              "<style scoped>\n",
              "    .dataframe tbody tr th:only-of-type {\n",
              "        vertical-align: middle;\n",
              "    }\n",
              "\n",
              "    .dataframe tbody tr th {\n",
              "        vertical-align: top;\n",
              "    }\n",
              "\n",
              "    .dataframe thead th {\n",
              "        text-align: right;\n",
              "    }\n",
              "</style>\n",
              "<table border=\"1\" class=\"dataframe\">\n",
              "  <thead>\n",
              "    <tr style=\"text-align: right;\">\n",
              "      <th></th>\n",
              "      <th>Open</th>\n",
              "      <th>High</th>\n",
              "      <th>Low</th>\n",
              "      <th>Close</th>\n",
              "      <th>Adj Close</th>\n",
              "      <th>Volume</th>\n",
              "    </tr>\n",
              "    <tr>\n",
              "      <th>Date</th>\n",
              "      <th></th>\n",
              "      <th></th>\n",
              "      <th></th>\n",
              "      <th></th>\n",
              "      <th></th>\n",
              "      <th></th>\n",
              "    </tr>\n",
              "  </thead>\n",
              "  <tbody>\n",
              "    <tr>\n",
              "      <th>2018-11-30</th>\n",
              "      <td>45.160000</td>\n",
              "      <td>45.160000</td>\n",
              "      <td>44.639999</td>\n",
              "      <td>45.009998</td>\n",
              "      <td>43.361794</td>\n",
              "      <td>5563500</td>\n",
              "    </tr>\n",
              "    <tr>\n",
              "      <th>2018-12-03</th>\n",
              "      <td>45.980000</td>\n",
              "      <td>45.980000</td>\n",
              "      <td>44.900002</td>\n",
              "      <td>45.080002</td>\n",
              "      <td>43.429234</td>\n",
              "      <td>5790400</td>\n",
              "    </tr>\n",
              "    <tr>\n",
              "      <th>2018-12-04</th>\n",
              "      <td>45.000000</td>\n",
              "      <td>45.259998</td>\n",
              "      <td>43.650002</td>\n",
              "      <td>43.750000</td>\n",
              "      <td>42.147942</td>\n",
              "      <td>3268000</td>\n",
              "    </tr>\n",
              "    <tr>\n",
              "      <th>2018-12-06</th>\n",
              "      <td>43.099998</td>\n",
              "      <td>44.240002</td>\n",
              "      <td>42.970001</td>\n",
              "      <td>44.240002</td>\n",
              "      <td>42.619995</td>\n",
              "      <td>3560400</td>\n",
              "    </tr>\n",
              "    <tr>\n",
              "      <th>2018-12-07</th>\n",
              "      <td>44.090000</td>\n",
              "      <td>44.450001</td>\n",
              "      <td>43.209999</td>\n",
              "      <td>43.400002</td>\n",
              "      <td>41.810757</td>\n",
              "      <td>2625800</td>\n",
              "    </tr>\n",
              "    <tr>\n",
              "      <th>...</th>\n",
              "      <td>...</td>\n",
              "      <td>...</td>\n",
              "      <td>...</td>\n",
              "      <td>...</td>\n",
              "      <td>...</td>\n",
              "      <td>...</td>\n",
              "    </tr>\n",
              "    <tr>\n",
              "      <th>2022-11-23</th>\n",
              "      <td>49.770000</td>\n",
              "      <td>50.590000</td>\n",
              "      <td>49.770000</td>\n",
              "      <td>50.480000</td>\n",
              "      <td>50.356033</td>\n",
              "      <td>4605800</td>\n",
              "    </tr>\n",
              "    <tr>\n",
              "      <th>2022-11-25</th>\n",
              "      <td>50.180000</td>\n",
              "      <td>50.450001</td>\n",
              "      <td>50.139999</td>\n",
              "      <td>50.200001</td>\n",
              "      <td>50.076721</td>\n",
              "      <td>1895800</td>\n",
              "    </tr>\n",
              "    <tr>\n",
              "      <th>2022-11-28</th>\n",
              "      <td>49.910000</td>\n",
              "      <td>50.205002</td>\n",
              "      <td>49.279999</td>\n",
              "      <td>49.400002</td>\n",
              "      <td>49.278687</td>\n",
              "      <td>3680300</td>\n",
              "    </tr>\n",
              "    <tr>\n",
              "      <th>2022-11-29</th>\n",
              "      <td>49.430000</td>\n",
              "      <td>49.549999</td>\n",
              "      <td>48.970001</td>\n",
              "      <td>49.419998</td>\n",
              "      <td>49.298634</td>\n",
              "      <td>3823100</td>\n",
              "    </tr>\n",
              "    <tr>\n",
              "      <th>2022-11-30</th>\n",
              "      <td>49.310001</td>\n",
              "      <td>51.525002</td>\n",
              "      <td>49.160000</td>\n",
              "      <td>51.509998</td>\n",
              "      <td>51.383503</td>\n",
              "      <td>10313800</td>\n",
              "    </tr>\n",
              "  </tbody>\n",
              "</table>\n",
              "<p>1007 rows × 6 columns</p>\n",
              "</div>\n",
              "      <button class=\"colab-df-convert\" onclick=\"convertToInteractive('df-8bb79e7b-adb4-4718-a959-678ba5466a4d')\"\n",
              "              title=\"Convert this dataframe to an interactive table.\"\n",
              "              style=\"display:none;\">\n",
              "        \n",
              "  <svg xmlns=\"http://www.w3.org/2000/svg\" height=\"24px\"viewBox=\"0 0 24 24\"\n",
              "       width=\"24px\">\n",
              "    <path d=\"M0 0h24v24H0V0z\" fill=\"none\"/>\n",
              "    <path d=\"M18.56 5.44l.94 2.06.94-2.06 2.06-.94-2.06-.94-.94-2.06-.94 2.06-2.06.94zm-11 1L8.5 8.5l.94-2.06 2.06-.94-2.06-.94L8.5 2.5l-.94 2.06-2.06.94zm10 10l.94 2.06.94-2.06 2.06-.94-2.06-.94-.94-2.06-.94 2.06-2.06.94z\"/><path d=\"M17.41 7.96l-1.37-1.37c-.4-.4-.92-.59-1.43-.59-.52 0-1.04.2-1.43.59L10.3 9.45l-7.72 7.72c-.78.78-.78 2.05 0 2.83L4 21.41c.39.39.9.59 1.41.59.51 0 1.02-.2 1.41-.59l7.78-7.78 2.81-2.81c.8-.78.8-2.07 0-2.86zM5.41 20L4 18.59l7.72-7.72 1.47 1.35L5.41 20z\"/>\n",
              "  </svg>\n",
              "      </button>\n",
              "      \n",
              "  <style>\n",
              "    .colab-df-container {\n",
              "      display:flex;\n",
              "      flex-wrap:wrap;\n",
              "      gap: 12px;\n",
              "    }\n",
              "\n",
              "    .colab-df-convert {\n",
              "      background-color: #E8F0FE;\n",
              "      border: none;\n",
              "      border-radius: 50%;\n",
              "      cursor: pointer;\n",
              "      display: none;\n",
              "      fill: #1967D2;\n",
              "      height: 32px;\n",
              "      padding: 0 0 0 0;\n",
              "      width: 32px;\n",
              "    }\n",
              "\n",
              "    .colab-df-convert:hover {\n",
              "      background-color: #E2EBFA;\n",
              "      box-shadow: 0px 1px 2px rgba(60, 64, 67, 0.3), 0px 1px 3px 1px rgba(60, 64, 67, 0.15);\n",
              "      fill: #174EA6;\n",
              "    }\n",
              "\n",
              "    [theme=dark] .colab-df-convert {\n",
              "      background-color: #3B4455;\n",
              "      fill: #D2E3FC;\n",
              "    }\n",
              "\n",
              "    [theme=dark] .colab-df-convert:hover {\n",
              "      background-color: #434B5C;\n",
              "      box-shadow: 0px 1px 3px 1px rgba(0, 0, 0, 0.15);\n",
              "      filter: drop-shadow(0px 1px 2px rgba(0, 0, 0, 0.3));\n",
              "      fill: #FFFFFF;\n",
              "    }\n",
              "  </style>\n",
              "\n",
              "      <script>\n",
              "        const buttonEl =\n",
              "          document.querySelector('#df-8bb79e7b-adb4-4718-a959-678ba5466a4d button.colab-df-convert');\n",
              "        buttonEl.style.display =\n",
              "          google.colab.kernel.accessAllowed ? 'block' : 'none';\n",
              "\n",
              "        async function convertToInteractive(key) {\n",
              "          const element = document.querySelector('#df-8bb79e7b-adb4-4718-a959-678ba5466a4d');\n",
              "          const dataTable =\n",
              "            await google.colab.kernel.invokeFunction('convertToInteractive',\n",
              "                                                     [key], {});\n",
              "          if (!dataTable) return;\n",
              "\n",
              "          const docLinkHtml = 'Like what you see? Visit the ' +\n",
              "            '<a target=\"_blank\" href=https://colab.research.google.com/notebooks/data_table.ipynb>data table notebook</a>'\n",
              "            + ' to learn more about interactive tables.';\n",
              "          element.innerHTML = '';\n",
              "          dataTable['output_type'] = 'display_data';\n",
              "          await google.colab.output.renderOutput(dataTable, element);\n",
              "          const docLink = document.createElement('div');\n",
              "          docLink.innerHTML = docLinkHtml;\n",
              "          element.appendChild(docLink);\n",
              "        }\n",
              "      </script>\n",
              "    </div>\n",
              "  </div>\n",
              "  "
            ]
          },
          "metadata": {},
          "execution_count": 40
        }
      ]
    },
    {
      "cell_type": "code",
      "source": [
        "plt.figure(figsize=(15, 8))\n",
        "plt.title('Stock Prices History')\n",
        "plt.plot(df['Close'])\n",
        "plt.xlabel('Date')\n",
        "\n",
        "# Plotting the Y Label\n",
        "plt.ylabel('Close Prices ($)')"
      ],
      "metadata": {
        "colab": {
          "base_uri": "https://localhost:8080/",
          "height": 531
        },
        "id": "eVYpc5o0CSz2",
        "outputId": "68b274d4-f9a2-4423-d664-921c8a936975"
      },
      "execution_count": 41,
      "outputs": [
        {
          "output_type": "execute_result",
          "data": {
            "text/plain": [
              "Text(0, 0.5, 'Close Prices ($)')"
            ]
          },
          "metadata": {},
          "execution_count": 41
        },
        {
          "output_type": "display_data",
          "data": {
            "text/plain": [
              "<Figure size 1080x576 with 1 Axes>"
            ],
            "image/png": "[encoded data removed]"
          },
          "metadata": {
            "needs_background": "light"
          }
        }
      ]
    },
    {
      "cell_type": "code",
      "source": [
        "window_size = 252"
      ],
      "metadata": {
        "id": "_m8EnQFaFakh"
      },
      "execution_count": 42,
      "outputs": []
    },
    {
      "cell_type": "code",
      "source": [
        "close_prices = df['Close']\n",
        "values = close_prices.values\n",
        "training_data_len = math.ceil(len(values)* 0.8)\n",
        "\n",
        "scaler = MinMaxScaler(feature_range=(0,1))\n",
        "scaled_data = scaler.fit_transform(values.reshape(-1,1))\n",
        "train_data = scaled_data[0: training_data_len, :]\n",
        "\n",
        "x_train = []\n",
        "y_train = []\n",
        "\n",
        "for i in range(window_size, len(train_data)):\n",
        "    x_train.append(train_data[i-window_size:i, 0])\n",
        "    y_train.append(train_data[i, 0])\n",
        "    \n",
        "x_train, y_train = np.array(x_train), np.array(y_train)\n",
        "x_train = np.reshape(x_train, (x_train.shape[0], x_train.shape[1], 1))\n"
      ],
      "metadata": {
        "id": "xpyEv6o8CWN-"
      },
      "execution_count": 43,
      "outputs": []
    },
    {
      "cell_type": "code",
      "source": [
        "\n",
        "\n",
        "test_data = scaled_data[training_data_len- window_size: , : ]\n",
        "x_test = []\n",
        "y_test = values[training_data_len:]\n",
        "\n",
        "for i in range(window_size, len(test_data)):\n",
        "  x_test.append(test_data[i-window_size:i, 0])\n",
        "\n",
        "x_test = np.array(x_test)\n",
        "x_test = np.reshape(x_test, (x_test.shape[0], x_test.shape[1], 1))\n"
      ],
      "metadata": {
        "id": "jleM_dHyCbx4"
      },
      "execution_count": 44,
      "outputs": []
    },
    {
      "cell_type": "code",
      "source": [
        "from tensorflow.keras.models import Sequential\n",
        "from tensorflow.keras.layers import Dense, Dropout, LSTM\n"
      ],
      "metadata": {
        "id": "09_bGY-1C7vv"
      },
      "execution_count": 45,
      "outputs": []
    },
    {
      "cell_type": "code",
      "source": [
        "model = Sequential()\n",
        "model.add(LSTM(100, return_sequences=True, input_shape=(x_train.shape[1], 1)))\n",
        "model.add(LSTM(100, return_sequences=False))\n",
        "model.add(Dense(25))\n",
        "model.add(Dense(1))\n",
        "model.summary()"
      ],
      "metadata": {
        "colab": {
          "base_uri": "https://localhost:8080/"
        },
        "id": "cWDymYQuCyP4",
        "outputId": "5e071ff0-3818-43e7-80e6-540619c3a109"
      },
      "execution_count": 46,
      "outputs": [
        {
          "output_type": "stream",
          "name": "stdout",
          "text": [
            "Model: \"sequential_2\"\n",
            "_________________________________________________________________\n",
            " Layer (type)                Output Shape              Param #   \n",
            "=================================================================\n",
            " lstm_4 (LSTM)               (None, 252, 100)          40800     \n",
            "                                                                 \n",
            " lstm_5 (LSTM)               (None, 100)               80400     \n",
            "                                                                 \n",
            " dense_4 (Dense)             (None, 25)                2525      \n",
            "                                                                 \n",
            " dense_5 (Dense)             (None, 1)                 26        \n",
            "                                                                 \n",
            "=================================================================\n",
            "Total params: 123,751\n",
            "Trainable params: 123,751\n",
            "Non-trainable params: 0\n",
            "_________________________________________________________________\n"
          ]
        }
      ]
    },
    {
      "cell_type": "code",
      "source": [
        "model.compile(optimizer='adam', loss='mean_squared_error')\n",
        "model.fit(x_train, y_train, batch_size= 1, epochs=3)\n"
      ],
      "metadata": {
        "colab": {
          "base_uri": "https://localhost:8080/"
        },
        "id": "SCClwuicDAww",
        "outputId": "c1c797a9-0349-47ae-85ed-2943f3527c6e"
      },
      "execution_count": 47,
      "outputs": [
        {
          "output_type": "stream",
          "name": "stdout",
          "text": [
            "Epoch 1/3\n",
            "554/554 [==============================] - 22s 36ms/step - loss: 0.0042\n",
            "Epoch 2/3\n",
            "554/554 [==============================] - 15s 27ms/step - loss: 0.0018\n",
            "Epoch 3/3\n",
            "554/554 [==============================] - 13s 23ms/step - loss: 0.0015\n"
          ]
        },
        {
          "output_type": "execute_result",
          "data": {
            "text/plain": [
              "<keras.callbacks.History at 0x7f0446a42190>"
            ]
          },
          "metadata": {},
          "execution_count": 47
        }
      ]
    },
    {
      "cell_type": "code",
      "source": [
        "x_train.shape"
      ],
      "metadata": {
        "colab": {
          "base_uri": "https://localhost:8080/"
        },
        "id": "gCmmHeRo5IHH",
        "outputId": "4cee0c2b-beb1-49e7-cf72-c828f044332d"
      },
      "execution_count": 48,
      "outputs": [
        {
          "output_type": "execute_result",
          "data": {
            "text/plain": [
              "(554, 252, 1)"
            ]
          },
          "metadata": {},
          "execution_count": 48
        }
      ]
    },
    {
      "cell_type": "code",
      "source": [
        "predictions = model.predict(x_test)\n",
        "predictions = scaler.inverse_transform(predictions)\n",
        "rmse = np.sqrt(np.mean(predictions - y_test)**2)\n",
        "rmse"
      ],
      "metadata": {
        "colab": {
          "base_uri": "https://localhost:8080/"
        },
        "id": "uoCxDaBhDD8P",
        "outputId": "7996f3bc-a33d-4325-b35a-de5e8800d499"
      },
      "execution_count": 49,
      "outputs": [
        {
          "output_type": "stream",
          "name": "stdout",
          "text": [
            "7/7 [==============================] - 1s 11ms/step\n"
          ]
        },
        {
          "output_type": "execute_result",
          "data": {
            "text/plain": [
              "0.5033282759177744"
            ]
          },
          "metadata": {},
          "execution_count": 49
        }
      ]
    },
    {
      "cell_type": "code",
      "source": [
        "data = df.filter(['Close'])\n",
        "train = data[:training_data_len]\n",
        "validation = data[training_data_len:]\n",
        "validation['Predictions'] = predictions\n",
        "plt.figure(figsize=(16,8))\n",
        "plt.title('Model')\n",
        "plt.xlabel('Date')\n",
        "plt.ylabel('Close Price USD ($)')\n",
        "plt.plot(train)\n",
        "plt.plot(validation[['Close', 'Predictions']])\n",
        "plt.legend(['Train', 'Val', 'Predictions'], loc='lower right')\n",
        "plt.show()"
      ],
      "metadata": {
        "colab": {
          "base_uri": "https://localhost:8080/",
          "height": 641
        },
        "id": "mN_DnJX0DGtH",
        "outputId": "e708422e-7054-4166-9671-80141455af3b"
      },
      "execution_count": 50,
      "outputs": [
        {
          "output_type": "stream",
          "name": "stderr",
          "text": [
            "<ipython-input-50-d4202c9d2279>:4: SettingWithCopyWarning: \n",
            "A value is trying to be set on a copy of a slice from a DataFrame.\n",
            "Try using .loc[row_indexer,col_indexer] = value instead\n",
            "\n",
            "See the caveats in the documentation: https://pandas.pydata.org/pandas-docs/stable/user_guide/indexing.html#returning-a-view-versus-a-copy\n",
            "  validation['Predictions'] = predictions\n"
          ]
        },
        {
          "output_type": "display_data",
          "data": {
            "text/plain": [
              "<Figure size 1152x576 with 1 Axes>"
            ],
            "image/png": "[encoded data removed]"
          },
          "metadata": {
            "needs_background": "light"
          }
        }
      ]
    },
    {
      "cell_type": "code",
      "source": [
        "days = [1, 4, 21, 61, 124]\n",
        "time = ['1 day', '1 week', '1 month', '3 months', '6 months', '1 year']\n",
        "\n",
        "\n",
        "def percent_error(actual_price, predicted_price):\n",
        "  return round((abs(actual_price - predicted_price) / predicted_price * 100), 2)\n",
        "\n",
        "\n",
        "for i in range(5): \n",
        "\n",
        "  predicted_price = predictions[days[i]][0]\n",
        "  actual_price = y_test[days[i]]\n",
        "\n",
        "  print(f'After {time[i]}')\n",
        "  predicted_price = round(float(predicted_price), 2)\n",
        "  actual_price = round(float(actual_price), 2)\n",
        "\n",
        "\n",
        "  print(f'The Actual Price: {actual_price}')\n",
        "  print(f'The Predicted Price: {predicted_price}')\n",
        "\n",
        "\n",
        "  print(f'Percent Error: {percent_error(actual_price, predicted_price)}\\n')\n",
        "\n",
        "  percent_errors = 0\n",
        "\n",
        "for i in range(len(predictions)):\n",
        "  predicted_price = predictions[i][0]\n",
        "  actual_price = y_test[i]\n",
        "\n",
        "  predicted_price = float(predicted_price)\n",
        "  actual_price = float(actual_price)\n",
        "  \n",
        "  percent_errors += percent_error(actual_price, predicted_price)\n",
        "\n",
        "print(f\"Average Percent Errors = {round (percent_errors / len(predictions),2)}\")\n",
        "\n",
        "print(f'RMSE = {round(float(rmse),2)}')"
      ],
      "metadata": {
        "colab": {
          "base_uri": "https://localhost:8080/"
        },
        "id": "bCwE42IVMFE4",
        "outputId": "87eda1df-569c-427d-9414-bccac13eb7a2"
      },
      "execution_count": 51,
      "outputs": [
        {
          "output_type": "stream",
          "name": "stdout",
          "text": [
            "After 1 day\n",
            "The Actual Price: 70.29\n",
            "The Predicted Price: 69.87\n",
            "Percent Error: 0.6\n",
            "\n",
            "After 1 week\n",
            "The Actual Price: 67.41\n",
            "The Predicted Price: 69.21\n",
            "Percent Error: 2.6\n",
            "\n",
            "After 1 month\n",
            "The Actual Price: 66.63\n",
            "The Predicted Price: 64.51\n",
            "Percent Error: 3.29\n",
            "\n",
            "After 3 months\n",
            "The Actual Price: 57.66\n",
            "The Predicted Price: 58.82\n",
            "Percent Error: 1.97\n",
            "\n",
            "After 6 months\n",
            "The Actual Price: 59.56\n",
            "The Predicted Price: 58.14\n",
            "Percent Error: 2.44\n",
            "\n",
            "Average Percent Errors = 2.24\n",
            "RMSE = 0.5\n"
          ]
        }
      ]
    },
    {
      "cell_type": "code",
      "source": [
        "# predictions"
      ],
      "metadata": {
        "id": "qJC-OlI9-fJx"
      },
      "execution_count": 52,
      "outputs": []
    },
    {
      "cell_type": "code",
      "source": [
        "print(x_test.shape)\n",
        "predictions.shape"
      ],
      "metadata": {
        "colab": {
          "base_uri": "https://localhost:8080/"
        },
        "id": "P_4gAF8Uw4pF",
        "outputId": "54276c01-a927-45f6-a929-9d1c3031808c"
      },
      "execution_count": 53,
      "outputs": [
        {
          "output_type": "stream",
          "name": "stdout",
          "text": [
            "(201, 252, 1)\n"
          ]
        },
        {
          "output_type": "execute_result",
          "data": {
            "text/plain": [
              "(201, 1)"
            ]
          },
          "metadata": {},
          "execution_count": 53
        }
      ]
    },
    {
      "cell_type": "code",
      "source": [
        "print(training_data_len - window_size)\n",
        "print(training_data_len)"
      ],
      "metadata": {
        "colab": {
          "base_uri": "https://localhost:8080/"
        },
        "id": "erCH9dyBxBPF",
        "outputId": "12fa2141-11bf-4485-a6bc-33bff9d31bf3"
      },
      "execution_count": 54,
      "outputs": [
        {
          "output_type": "stream",
          "name": "stdout",
          "text": [
            "554\n",
            "806\n"
          ]
        }
      ]
    },
    {
      "cell_type": "code",
      "source": [
        "# close_data = np.array(df['Close']).reshape((-1))\n",
        "\n",
        "# def predict(window_size, model):\n",
        "#     prediction_list = close_data[-windows_size:]\n",
        "    \n",
        "#     for _ in range(window_size):\n",
        "#         x = prediction_list[-window_size:]\n",
        "#         x = x.reshape((1, window_size, 1))\n",
        "#         out = model.predict(x)[0][0]\n",
        "#         prediction_list = np.append(prediction_list, (out))\n",
        "#     prediction_list = prediction_list[window_size-1:]\n",
        "        \n",
        "#     return prediction_list\n",
        "    \n",
        "# forecast = predict(window_size, model)"
      ],
      "metadata": {
        "id": "K_5T6H3bwfSe"
      },
      "execution_count": 55,
      "outputs": []
    },
    {
      "cell_type": "code",
      "source": [
        "# prediction_list.size"
      ],
      "metadata": {
        "id": "6yvLhnVW6JCe"
      },
      "execution_count": 56,
      "outputs": []
    },
    {
      "cell_type": "code",
      "source": [
        "# print(f'100 days later stock price: {forecast_dates}')\n",
        "# forecast"
      ],
      "metadata": {
        "id": "yg-LKY1y2daN"
      },
      "execution_count": 57,
      "outputs": []
    }
  ]
}